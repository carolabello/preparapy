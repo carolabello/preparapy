{
  "nbformat": 4,
  "nbformat_minor": 0,
  "metadata": {
    "colab": {
      "name": "Practice Python.ipynb",
      "provenance": [],
      "collapsed_sections": [
        "iuJKnrFwEruo"
      ],
      "toc_visible": true,
      "authorship_tag": "ABX9TyOVivHoTwJIdwwOCH9vV12J",
      "include_colab_link": true
    },
    "kernelspec": {
      "name": "python3",
      "display_name": "Python 3"
    },
    "language_info": {
      "name": "python"
    }
  },
  "cells": [
    {
      "cell_type": "markdown",
      "metadata": {
        "id": "view-in-github",
        "colab_type": "text"
      },
      "source": [
        "<a href=\"https://colab.research.google.com/github/carolabello/preparapy/blob/main/Practice_Python.ipynb\" target=\"_parent\"><img src=\"https://colab.research.google.com/assets/colab-badge.svg\" alt=\"Open In Colab\"/></a>"
      ]
    },
    {
      "cell_type": "markdown",
      "metadata": {
        "id": "iuJKnrFwEruo"
      },
      "source": [
        "# Say \"Hello, World!\" With Python"
      ]
    },
    {
      "cell_type": "markdown",
      "metadata": {
        "id": "6pDvd2zpE7vN"
      },
      "source": [
        "Print Hello, World! to stdout."
      ]
    },
    {
      "cell_type": "code",
      "metadata": {
        "colab": {
          "base_uri": "https://localhost:8080/"
        },
        "id": "57MnIY37E5kX",
        "outputId": "a8fdbcfc-0c4d-4e23-ba40-c09dd0bfbb60"
      },
      "source": [
        "print(\"Hello, World!\")"
      ],
      "execution_count": null,
      "outputs": [
        {
          "output_type": "stream",
          "text": [
            "Hello, World!\n"
          ],
          "name": "stdout"
        }
      ]
    },
    {
      "cell_type": "markdown",
      "metadata": {
        "id": "wfpCQZXjErku"
      },
      "source": [
        "# Arithmetic Operators"
      ]
    },
    {
      "cell_type": "markdown",
      "metadata": {
        "id": "Tdn_Z7ScFS3e"
      },
      "source": [
        "Add code to print three lines where:\n",
        "\n",
        "The first line contains the sum of the two numbers.\n",
        "\n",
        "The second line contains the difference of the two numbers (first - second).\n",
        "\n",
        "The third line contains the product of the two numbers.\n",
        "\n",
        "Sample input 0:\n",
        "\n",
        "3\n",
        "\n",
        "2"
      ]
    },
    {
      "cell_type": "code",
      "metadata": {
        "colab": {
          "base_uri": "https://localhost:8080/"
        },
        "id": "OFfh-eekFdN4",
        "outputId": "44cdd68b-023c-421d-c53a-61c81d091af2"
      },
      "source": [
        "if __name__ == '__main__':\n",
        "    a = int(3)\n",
        "    b = int(2)\n",
        "\n",
        "    print(a+b)\n",
        "    print(a-b)\n",
        "    print(a*b)\n"
      ],
      "execution_count": null,
      "outputs": [
        {
          "output_type": "stream",
          "text": [
            "5\n",
            "1\n",
            "6\n"
          ],
          "name": "stdout"
        }
      ]
    },
    {
      "cell_type": "markdown",
      "metadata": {
        "id": "VxRTrvZVErIy"
      },
      "source": [
        ""
      ]
    },
    {
      "cell_type": "markdown",
      "metadata": {
        "id": "3clF7Q0ykDlu"
      },
      "source": [
        "# Python: Division\n",
        "\n"
      ]
    },
    {
      "cell_type": "code",
      "metadata": {
        "colab": {
          "base_uri": "https://localhost:8080/"
        },
        "id": "7b7LNxeLj5xU",
        "outputId": "c46cd217-cf07-4d35-e408-b0796f2331c6"
      },
      "source": [
        "a=4\n",
        "b=3\n",
        "print (a//b)\n",
        "print (a/b)"
      ],
      "execution_count": null,
      "outputs": [
        {
          "output_type": "stream",
          "text": [
            "1\n",
            "1.3333333333333333\n"
          ],
          "name": "stdout"
        }
      ]
    },
    {
      "cell_type": "markdown",
      "metadata": {
        "id": "uBMBp1ZgpNyl"
      },
      "source": [
        "Assim não roda:"
      ]
    },
    {
      "cell_type": "code",
      "metadata": {
        "id": "pAVH0JTlk-gC"
      },
      "source": [
        "if __name__ == '__main__':\n",
        "    a = int(input(4))\n",
        "    b = int(input(3))\n",
        "    print(a.py//b)\n",
        "    print(a/b)"
      ],
      "execution_count": null,
      "outputs": []
    },
    {
      "cell_type": "markdown",
      "metadata": {
        "id": "xx4wSRj5pKo1"
      },
      "source": [
        "Assim roda:"
      ]
    },
    {
      "cell_type": "code",
      "metadata": {
        "colab": {
          "base_uri": "https://localhost:8080/"
        },
        "id": "vr1V7fBznwRj",
        "outputId": "17567bfc-75c6-4b41-fbfd-6ff4d30296fe"
      },
      "source": [
        "if __name__ == '__main__':\n",
        "    a = int(4)\n",
        "    b = int(3)\n",
        "    print(a//b)\n",
        "    print(a/b)"
      ],
      "execution_count": null,
      "outputs": [
        {
          "output_type": "stream",
          "text": [
            "1\n",
            "1.3333333333333333\n"
          ],
          "name": "stdout"
        }
      ]
    },
    {
      "cell_type": "code",
      "metadata": {
        "id": "UUnJ8fe4pYki"
      },
      "source": [
        ""
      ],
      "execution_count": null,
      "outputs": []
    },
    {
      "cell_type": "markdown",
      "metadata": {
        "id": "V_kUSohZpbFU"
      },
      "source": [
        "# Loops\n",
        "\n",
        "For all non-negative integers ***i<n***, print ***i²***.\n",
        "\n",
        "Print ***n*** lines, one corresponding to each ***i***\n",
        "\n",
        "Constraints:    1<= n <= 20"
      ]
    },
    {
      "cell_type": "markdown",
      "metadata": {
        "id": "jpFemK2xBZV2"
      },
      "source": [
        "NÃO FUNCIONA:"
      ]
    },
    {
      "cell_type": "code",
      "metadata": {
        "id": "j0k99gPP9mBH"
      },
      "source": [
        "if __name__ == '__main__':\n",
        "    n = int(input())\n",
        "    for i in range(0,n):\n",
        "        print(i*i)"
      ],
      "execution_count": null,
      "outputs": []
    },
    {
      "cell_type": "code",
      "metadata": {
        "colab": {
          "base_uri": "https://localhost:8080/"
        },
        "id": "OPTJG23X7I0u",
        "outputId": "b1962daf-04e5-4a45-ce6d-db8808a3e99f"
      },
      "source": [
        "list(range(1, 21))\n"
      ],
      "execution_count": null,
      "outputs": [
        {
          "output_type": "execute_result",
          "data": {
            "text/plain": [
              "[1, 2, 3, 4, 5, 6, 7, 8, 9, 10, 11, 12, 13, 14, 15, 16, 17, 18, 19, 20]"
            ]
          },
          "metadata": {
            "tags": []
          },
          "execution_count": 30
        }
      ]
    },
    {
      "cell_type": "code",
      "metadata": {
        "id": "dZBqoR-P9Cag"
      },
      "source": [
        "i = 0\n",
        "list(range(1,21))\n"
      ],
      "execution_count": null,
      "outputs": []
    },
    {
      "cell_type": "markdown",
      "metadata": {
        "id": "TStQsQK2EcDe"
      },
      "source": [
        "FUNCIONA:"
      ]
    },
    {
      "cell_type": "code",
      "metadata": {
        "id": "r0cLSIo8Bhdw"
      },
      "source": [
        "if __name__ == '__main__':\n",
        "    n = int(12)\n",
        "    \n",
        "    for i in range(0,n):\n",
        "        print(i**2)"
      ],
      "execution_count": null,
      "outputs": []
    },
    {
      "cell_type": "markdown",
      "metadata": {
        "id": "Oh4mMtPbpiVD"
      },
      "source": [
        "# Write a function"
      ]
    },
    {
      "cell_type": "markdown",
      "metadata": {
        "id": "dAVJW1ygEYcO"
      },
      "source": [
        ""
      ]
    },
    {
      "cell_type": "markdown",
      "metadata": {
        "id": "qDof-lQZpim0"
      },
      "source": [
        "# Python If-Else"
      ]
    },
    {
      "cell_type": "markdown",
      "metadata": {
        "id": "GILONnfhMwOp"
      },
      "source": [
        "If ***n*** is even and in the inclusive range of 6 to 20 , print Weird\n",
        "\n",
        "If ***n*** is even and greater than 20 , print Not Weird"
      ]
    },
    {
      "cell_type": "code",
      "metadata": {
        "id": "2ZhDgQb4MhXL"
      },
      "source": [
        "#!/bin/python3\n",
        "\n",
        "import math\n",
        "import os\n",
        "import random\n",
        "import re\n",
        "import sys\n",
        "\n",
        "\n",
        "\n",
        "if __name__ == '__main__':\n",
        "    n = int(input().strip())\n",
        "\n",
        "    if n%2 !=0:\n",
        "        print(\"Weird\")\n",
        "    else:\n",
        "        if n>=6 and n<=20:\n",
        "            print(\"Weird\")\n",
        "        else:\n",
        "            print(\"Not Weird\")"
      ],
      "execution_count": null,
      "outputs": []
    },
    {
      "cell_type": "markdown",
      "metadata": {
        "id": "vn82dTPupiuS"
      },
      "source": [
        "# Next"
      ]
    },
    {
      "cell_type": "code",
      "metadata": {
        "id": "e-fV1c7rpeIE"
      },
      "source": [
        ""
      ],
      "execution_count": null,
      "outputs": []
    }
  ]
}